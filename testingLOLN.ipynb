{
 "metadata": {
  "language_info": {
   "codemirror_mode": {
    "name": "ipython",
    "version": 3
   },
   "file_extension": ".py",
   "mimetype": "text/x-python",
   "name": "python",
   "nbconvert_exporter": "python",
   "pygments_lexer": "ipython3",
   "version": "3.9.4"
  },
  "orig_nbformat": 2,
  "kernelspec": {
   "name": "python394jvsc74a57bd05234f0622b8fd9adbadcdafacc8a1a3c4ce548770601461d6ee7d4472223a563",
   "display_name": "Python 3.9.4 64-bit"
  },
  "metadata": {
   "interpreter": {
    "hash": "5234f0622b8fd9adbadcdafacc8a1a3c4ce548770601461d6ee7d4472223a563"
   }
  }
 },
 "nbformat": 4,
 "nbformat_minor": 2,
 "cells": [
  {
   "cell_type": "code",
   "execution_count": 11,
   "metadata": {},
   "outputs": [
    {
     "output_type": "execute_result",
     "data": {
      "text/plain": [
       "0.71"
      ]
     },
     "metadata": {},
     "execution_count": 11
    }
   ],
   "source": [
    "# testing law of large numbers for N random normally distributed numbers with mean = 0, standard deviation = 1: expected value is 68.2%\n",
    "import numpy as np\n",
    "from numpy.random import randn\n",
    "counter = 0\n",
    "for i in randn(100):\n",
    "    if (i > -1 and i < 1):\n",
    "        counter = counter + 1\n",
    "counter/100\n"
   ]
  },
  {
   "cell_type": "code",
   "execution_count": null,
   "metadata": {},
   "outputs": [],
   "source": []
  }
 ]
}